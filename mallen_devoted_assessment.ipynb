{
 "cells": [
  {
   "cell_type": "markdown",
   "metadata": {},
   "source": [
    "# Devoted Health Tech Assessment"
   ]
  },
  {
   "cell_type": "code",
   "execution_count": 2,
   "metadata": {},
   "outputs": [],
   "source": [
    "import pandas as pd\n",
    "import numpy as np\n",
    "import re\n",
    "import selenium\n",
    "from selenium import webdriver\n",
    "import psycopg2\n",
    "import configparser\n",
    "import os\n",
    "from tqdm import tqdm"
   ]
  },
  {
   "cell_type": "markdown",
   "metadata": {},
   "source": [
    "### Helper Functions"
   ]
  },
  {
   "cell_type": "code",
   "execution_count": 3,
   "metadata": {},
   "outputs": [],
   "source": [
    "def get_creds(config_file='creds.ini', section='devoted'):\n",
    "    \"\"\"Get credentials for the postgresql database from a file\n",
    "    \"\"\"\n",
    "    config = configparser.ConfigParser()\n",
    "    config.read(config_file)\n",
    "    return config[section]\n",
    "\n",
    "\n",
    "def get_conn():\n",
    "    \"\"\"Get a connection to the postgresql database\"\"\"\n",
    "    creds = get_creds()\n",
    "    try:\n",
    "        conn = psycopg2.connect(f\"dbname={creds['database']} user={creds['user']} host={creds['host']} password={creds['password']}\"\n",
    "                               )\n",
    "    except:\n",
    "        print(\"Couldn't Connect to the Database\")\n",
    "    return conn\n",
    "\n",
    "    \n",
    "def query(query, return_query=True, verbose=True):\n",
    "    \"\"\"Execute a query on the postgres db\n",
    "    \"\"\"\n",
    "    conn = get_conn()\n",
    "    cur = conn.cursor()\n",
    "    if verbose:\n",
    "        print(query)\n",
    "    cur.execute(query)\n",
    "    if return_query:\n",
    "        colnames = tuple([desc[0] for desc in cur.description])\n",
    "        df = pd.DataFrame(data=cur.fetchall(),\n",
    "                         columns=colnames\n",
    "                         )\n",
    "        return df\n",
    "\n",
    "def save_results(df, location=\"./answers\", filename=\"output.csv\"):\n",
    "    \"\"\"Save results to csv files\"\"\"\n",
    "    df.to_csv(os.path.join(location, filename), index=False)\n",
    "    "
   ]
  },
  {
   "cell_type": "markdown",
   "metadata": {},
   "source": [
    "# SQL Questions"
   ]
  },
  {
   "cell_type": "code",
   "execution_count": 4,
   "metadata": {},
   "outputs": [],
   "source": [
    "def sql_question(question_query, filename, print_head=True, limit=5):\n",
    "    \"\"\"Boilerplate to reduce repeat code\"\"\"\n",
    "    question = query(question_query)\n",
    "    save_results(question, filename=filename)\n",
    "    if print_head:\n",
    "        print(f\"First {limit} rows:\")\n",
    "        print(question.head(limit))\n",
    "        "
   ]
  },
  {
   "cell_type": "markdown",
   "metadata": {},
   "source": [
    "### Question 1a\n",
    "How many providers does each group have?"
   ]
  },
  {
   "cell_type": "code",
   "execution_count": 5,
   "metadata": {},
   "outputs": [
    {
     "name": "stdout",
     "output_type": "stream",
     "text": [
      "select g.medical_group_id,\n",
      "count(distinct p.full_name) as group_provider_count\n",
      "from directory.provider_groups as g\n",
      "inner join directory.providers as p USING (npi)\n",
      "group by g.medical_group_id\n",
      "order by group_provider_count desc\n",
      "\n",
      "First 5 rows:\n",
      "                   medical_group_id  group_provider_count\n",
      "0  2e03e636383536ed655ca71d0f5d0ca8                    10\n",
      "1  029fc58de74cc766fe41649e54f39400                    10\n",
      "2  635e40654456c4c350e35f71e626326d                     8\n",
      "3  1bb7237aa66907ad613dc4b58e7ffbc2                     8\n",
      "4  b23188dbe1f0dff437b87a4b87223626                     7\n"
     ]
    }
   ],
   "source": [
    "question_1a_query = \"\"\"select g.medical_group_id,\n",
    "count(distinct p.full_name) as group_provider_count\n",
    "from directory.provider_groups as g\n",
    "inner join directory.providers as p USING (npi)\n",
    "group by g.medical_group_id\n",
    "order by group_provider_count desc\n",
    "\"\"\"\n",
    "sql_question(question_1a_query, 'sql_question_1a.csv')\n"
   ]
  },
  {
   "cell_type": "markdown",
   "metadata": {},
   "source": [
    " ### Question 1b\n",
    " How many primary care providers?"
   ]
  },
  {
   "cell_type": "code",
   "execution_count": 6,
   "metadata": {},
   "outputs": [
    {
     "name": "stdout",
     "output_type": "stream",
     "text": [
      "select g.medical_group_id, count(distinct p.full_name) as group_pcp_count\n",
      "from directory.provider_groups as g\n",
      "inner join directory.providers as p USING (npi)\n",
      "where p.is_pcp=true\n",
      "group by g.medical_group_id\n",
      "order by group_pcp_count desc\n",
      "\n",
      "First 5 rows:\n",
      "                   medical_group_id  group_pcp_count\n",
      "0  2e03e636383536ed655ca71d0f5d0ca8                5\n",
      "1  029fc58de74cc766fe41649e54f39400                4\n",
      "2  267bc253248d5924bd68e050948f2741                3\n",
      "3  1bb7237aa66907ad613dc4b58e7ffbc2                2\n",
      "4  c6982433a17952c22c86dc5ce58dd87a                2\n"
     ]
    }
   ],
   "source": [
    "question_1b_query = \"\"\"select g.medical_group_id, count(distinct p.full_name) as group_pcp_count\n",
    "from directory.provider_groups as g\n",
    "inner join directory.providers as p USING (npi)\n",
    "where p.is_pcp=true\n",
    "group by g.medical_group_id\n",
    "order by group_pcp_count desc\n",
    "\"\"\"\n",
    "sql_question(question_1b_query, 'sql_question_1b.csv')\n"
   ]
  },
  {
   "cell_type": "markdown",
   "metadata": {},
   "source": [
    "### Question 2\n",
    "Which providers do not have associated contact info (order the list by NPI and include the top 20 results)?"
   ]
  },
  {
   "cell_type": "code",
   "execution_count": 7,
   "metadata": {},
   "outputs": [
    {
     "name": "stdout",
     "output_type": "stream",
     "text": [
      "SELECT p.*\n",
      "FROM   directory.providers as p\n",
      "LEFT   JOIN directory.provider_contact_info as c USING (npi)\n",
      "WHERE  c.npi IS null\n",
      "order by p.npi\n",
      "limit 20\n",
      "\n",
      "First 5 rows:\n",
      "          npi                   full_name  is_pcp\n",
      "0  1003868902           MARK ALAN WHITING    True\n",
      "1  1124069992  ESTEBAN MARTIN KLOOSTERMAN   False\n",
      "2  1184982993          KERRY-ANN D MILLER    True\n",
      "3  1225041163             MARISA F. BAKER   False\n",
      "4  1295936920       DANIEL LAWRENCE COHEN   False\n"
     ]
    }
   ],
   "source": [
    "question_2_query = \"\"\"SELECT p.*\n",
    "FROM   directory.providers as p\n",
    "LEFT   JOIN directory.provider_contact_info as c USING (npi)\n",
    "WHERE  c.npi IS null\n",
    "order by p.npi\n",
    "limit 20\n",
    "\"\"\"\n",
    "sql_question(question_2_query, 'sql_question_2.csv')\n"
   ]
  },
  {
   "cell_type": "markdown",
   "metadata": {},
   "source": [
    "### Quesiton 3a\n",
    "For each provider, find the record associated with the most recent update (order the list by NPI and include the top 20 results)"
   ]
  },
  {
   "cell_type": "code",
   "execution_count": 8,
   "metadata": {},
   "outputs": [
    {
     "name": "stdout",
     "output_type": "stream",
     "text": [
      "select distinct a.*\n",
      "from directory.provider_contact_info a\n",
      "inner join (\n",
      "select distinct npi,\n",
      "first_value(update_date) over (partition by npi order by update_date desc) as last\n",
      "from directory.provider_contact_info\n",
      ") b\n",
      "on a.update_date = b.last\n",
      "order by a.npi\n",
      "limit 20\n",
      "\n",
      "First 5 rows:\n",
      "          npi                  address1 address2        city state    zip  \\\n",
      "0  1003872375  8391 W Oakland Park Blvd              Sunrise    FL  33351   \n",
      "1  1013183425           6900 SW 80th St                Miami    FL  33143   \n",
      "2  1013183425           6900 SW 80th St                Miami    FL  33143   \n",
      "3  1013183425           6900 SW 80th St                Miami    FL  33143   \n",
      "4  1023038494           3450 Lantana Rd           Lake Worth    FL  33462   \n",
      "\n",
      "        phone         fax data_source  confidence_score update_date  \n",
      "0  9547492184                       F          0.016811  2018-07-22  \n",
      "1  7864675701  7866624649           C          0.972215  2018-06-27  \n",
      "2  7866628118  7866624649           B          0.756482  2018-08-01  \n",
      "3  7866628531  7866624649           C          0.157208  2018-08-14  \n",
      "4  5619651864  5619675005           B          0.020249  2018-08-06  \n"
     ]
    }
   ],
   "source": [
    "question_3a_query = \"\"\"select a.*\n",
    "from directory.provider_contact_info a\n",
    "inner join (\n",
    "select distinct npi,\n",
    "first_value(update_date) over (partition by npi order by update_date desc) as last\n",
    "from directory.provider_contact_info\n",
    ") b\n",
    "on a.npi = b.npi and a.update_date = b.last\n",
    "order by a.npi\n",
    "limit 20\n",
    "\"\"\"\n",
    "sql_question(question_3a_query, 'sql_question_3a.csv')\n"
   ]
  },
  {
   "cell_type": "markdown",
   "metadata": {},
   "source": [
    "### Question 3b\n",
    "For each provider, find the record associated with the highest quality source that has been updated in the last 60 days (order the list by NPI and include the top 20 results)"
   ]
  },
  {
   "cell_type": "markdown",
   "metadata": {},
   "source": [
    "**ISSUE:** the database doesn't have data within the last 60 days so I changed it to 90 days"
   ]
  },
  {
   "cell_type": "code",
   "execution_count": 9,
   "metadata": {},
   "outputs": [
    {
     "name": "stdout",
     "output_type": "stream",
     "text": [
      "select a.*\n",
      "from directory.provider_contact_info a\n",
      "inner join\n",
      "(\n",
      "select npi, update_date,\n",
      "first_value(confidence_score) over (partition by npi order by confidence_score desc) as best_score\n",
      "from directory.provider_contact_info\n",
      "where update_date >= current_date - 90\n",
      ") b\n",
      "on a.npi = b.npi and a.update_date = b.update_date and a.confidence_score = b.best_score\n",
      "\n",
      "First 5 rows:\n",
      "          npi                   address1 address2         city state    zip  \\\n",
      "0  1013183425            6900 SW 80th St                 Miami    FL  33143   \n",
      "1  1699838979  1100 Goodlette Road North                Naples    FL  34102   \n",
      "2  1356430623   38035 Medical Center Ave           Zephyrhills    FL  33540   \n",
      "3  1659338457        20803 Biscayne Blvd              Aventura    FL  33180   \n",
      "4  1447797691   1600 Lakeland Hills Blvd              Lakeland    FL  33805   \n",
      "\n",
      "        phone         fax data_source  confidence_score update_date  \n",
      "0  7866628531  7866624649           C          0.157208  2018-08-14  \n",
      "1  2394340656  2392610060           C          0.260426  2018-08-21  \n",
      "2  8137881400  8137887691           A          0.823334  2018-08-10  \n",
      "3  9549654900  9542760266           A          0.683520  2018-08-18  \n",
      "4  8636807000                       F          0.237297  2018-08-21  \n"
     ]
    }
   ],
   "source": [
    "n_days = 90\n",
    "question_3b_query = f\"\"\"select a.*\n",
    "from directory.provider_contact_info a\n",
    "inner join\n",
    "(\n",
    "select npi, update_date,\n",
    "first_value(confidence_score) over (partition by npi order by confidence_score desc) as best_score\n",
    "from directory.provider_contact_info\n",
    "where update_date >= current_date - {n_days}\n",
    ") b\n",
    "on a.npi = b.npi and a.update_date = b.update_date and a.confidence_score = b.best_score\n",
    "\"\"\"\n",
    "sql_question(question_3b_query, 'sql_question_3b.csv')"
   ]
  },
  {
   "cell_type": "markdown",
   "metadata": {},
   "source": [
    "### Question 3c\n",
    "For each provider/data source combination, find the current phone number, previous phone number, and flag whether the number has changed (order the list by provider then data source and include the top 20 results)"
   ]
  },
  {
   "cell_type": "code",
   "execution_count": 10,
   "metadata": {},
   "outputs": [
    {
     "name": "stdout",
     "output_type": "stream",
     "text": [
      "\n",
      "select a.*\n",
      "from \n",
      "(\n",
      "select *,\n",
      "lag(phone, 1)\n",
      "over (partition by npi, data_source order by update_date) = lag(phone, 0, null)\n",
      "over (partition by npi, data_source order by update_date, null) as is_phone_same\n",
      "from directory.provider_contact_info\n",
      "order by npi, data_source\n",
      ") a\n",
      "where a.is_phone_same = false\n",
      "order by npi, data_source\n",
      "limit 20\n",
      "\n",
      "First 5 rows:\n",
      "          npi                  address1 address2            city state    zip  \\\n",
      "0  1003872375  8391 W Oakland Park Blvd                  Sunrise    FL  33351   \n",
      "1  1013183425           6900 SW 80th St                    Miami    FL  33143   \n",
      "2  1023440989       293 NW Peacock Blvd           Port St. Lucie    FL  34986   \n",
      "3  1023440989       293 NW Peacock Blvd           Port St. Lucie    FL  34986   \n",
      "4  1023440989       293 NW Peacock Blvd           Port St. Lucie    FL  34986   \n",
      "\n",
      "        phone         fax data_source  confidence_score update_date  \\\n",
      "0  9547492184                       F          0.016811  2018-07-22   \n",
      "1  7866628531  7866624649           C          0.157208  2018-08-14   \n",
      "2  7723359884  7723359699           B          0.022802  2018-08-10   \n",
      "3  7723359600                       D          0.880766  2018-07-11   \n",
      "4  7723359600                       F          0.855302  2018-07-16   \n",
      "\n",
      "   is_phone_same  \n",
      "0          False  \n",
      "1          False  \n",
      "2          False  \n",
      "3          False  \n",
      "4          False  \n"
     ]
    }
   ],
   "source": [
    "question_3c_query = \"\"\"\n",
    "select a.*\n",
    "from \n",
    "(\n",
    "select *,\n",
    "lag(phone, 1)\n",
    "over (partition by npi, data_source order by update_date) = lag(phone, 0, null)\n",
    "over (partition by npi, data_source order by update_date, null) as is_phone_same\n",
    "from directory.provider_contact_info\n",
    "order by npi, data_source\n",
    ") a\n",
    "where a.is_phone_same = false\n",
    "order by npi, data_source\n",
    "limit 20\n",
    "\"\"\"\n",
    "sql_question(question_3c_query, 'sql_question_3c.csv')\n"
   ]
  },
  {
   "cell_type": "markdown",
   "metadata": {},
   "source": [
    "# Data Cleaning"
   ]
  },
  {
   "cell_type": "code",
   "execution_count": 11,
   "metadata": {},
   "outputs": [],
   "source": [
    "data_location = './data/new_phone_records.csv'\n",
    "data = pd.read_csv(data_location)\n"
   ]
  },
  {
   "cell_type": "markdown",
   "metadata": {},
   "source": [
    "### Question\n",
    "Using python, clean these phone numbers to prepare them for upload into the database as a 10-digit string. Attach your code for cleaning the data as well as a CSV with your resulting file for upload sorted by NPI then phone number."
   ]
  },
  {
   "cell_type": "code",
   "execution_count": 12,
   "metadata": {},
   "outputs": [],
   "source": [
    "PHONE_REGEX = re.compile(r'x[0-9][0-9]?|ext.\\s[0-9][0-9]?|^\\+[0-9]|^[0-9]-|-|\\s|\\.|\\(|\\)')\n",
    "def clean_phone_numbers(dirty_number):\n",
    "    clean_number = re.sub(PHONE_REGEX, '', dirty_number)\n",
    "    clean_number = clean_number.replace('\\x07', '').replace('\\x01', '').replace('\\x08', '')\n",
    "    return clean_number\n",
    "    "
   ]
  },
  {
   "cell_type": "code",
   "execution_count": 13,
   "metadata": {},
   "outputs": [],
   "source": [
    "data['original_phone'] = data.phone\n",
    "data['phone'] = data.phone.apply(clean_phone_numbers)\n",
    "save_results(data.sort_values(by=['npi', 'phone']), filename='data_cleaning.csv')\n"
   ]
  },
  {
   "cell_type": "markdown",
   "metadata": {},
   "source": [
    "#### Prepare to upload the data\n",
    "Prepare the data to be uploaded as a table to the database (see commented out code below)\n",
    "\n",
    "I wasn't sure if you were looking for a table create query and/or actually wanted the data to be uploaded, but I wrote out a potential method using pandas"
   ]
  },
  {
   "cell_type": "code",
   "execution_count": 14,
   "metadata": {},
   "outputs": [],
   "source": [
    "# data.to_sql('directory.mallen_clean_phone', con=get_conn(), if_exists='replace')\n"
   ]
  },
  {
   "cell_type": "markdown",
   "metadata": {},
   "source": [
    "### Comments\n",
    "- Some of the number are don't have enough numbers in them (i.e. 9 numbers istead of 10) while others have too many numbers (see below)\n",
    "  - This could be an entry error\n",
    "- Some numbers are malformatted and have characters like `\\x073`, `\\x01` or `\\x08`\n",
    "  - I manually dealt with those values\n"
   ]
  },
  {
   "cell_type": "code",
   "execution_count": 15,
   "metadata": {},
   "outputs": [
    {
     "data": {
      "text/plain": [
       "10    105\n",
       "9       2\n",
       "11      1\n",
       "Name: phone, dtype: int64"
      ]
     },
     "execution_count": 15,
     "metadata": {},
     "output_type": "execute_result"
    }
   ],
   "source": [
    "data.phone.str.len().value_counts()\n"
   ]
  },
  {
   "cell_type": "markdown",
   "metadata": {},
   "source": [
    "### Compare"
   ]
  },
  {
   "cell_type": "markdown",
   "metadata": {},
   "source": [
    "#### (a)\n",
    "How many providers who did not previously have a phone number in the database have one in the new data source?\n"
   ]
  },
  {
   "cell_type": "code",
   "execution_count": 16,
   "metadata": {},
   "outputs": [
    {
     "name": "stdout",
     "output_type": "stream",
     "text": [
      "There are 0 providers\n",
      "      who had no phone number listed prior to the new data\n"
     ]
    }
   ],
   "source": [
    "missing_numbers_query = \"\"\"select count(*)\n",
    "from directory.provider_contact_info\n",
    "where phone = ''\n",
    "\"\"\"\n",
    "\n",
    "print(f\"\"\"There are {query(missing_numbers_query, verbose=False).values[0][0]} providers\n",
    "      who had no phone number listed prior to the new data\"\"\")\n"
   ]
  },
  {
   "cell_type": "markdown",
   "metadata": {},
   "source": [
    "**Note:** There doesn't seem to be any provider in the dataset that was missing a phone number"
   ]
  },
  {
   "cell_type": "markdown",
   "metadata": {},
   "source": [
    "#### (b) \n",
    "How many of the records in the new data source match a phone number we already had associated with that provider\n"
   ]
  },
  {
   "cell_type": "code",
   "execution_count": 17,
   "metadata": {},
   "outputs": [],
   "source": [
    "contact_phone_data = query(\"\"\"select npi, phone, update_date\n",
    "                           from directory.provider_contact_info\"\"\",\n",
    "                          verbose=False)\n"
   ]
  },
  {
   "cell_type": "code",
   "execution_count": 18,
   "metadata": {},
   "outputs": [],
   "source": [
    "recent_contact_phone = (contact_phone_data.\n",
    "                        sort_values(by='update_date').\n",
    "                        groupby('npi').\n",
    "                        agg(lambda x: x.iloc[0]).\n",
    "                        reset_index()\n",
    "                       )\n",
    "recent_contact_phone['npi'] = pd.to_numeric(recent_contact_phone.npi)\n"
   ]
  },
  {
   "cell_type": "code",
   "execution_count": 19,
   "metadata": {},
   "outputs": [
    {
     "name": "stdout",
     "output_type": "stream",
     "text": [
      "\n",
      "There are\n",
      "38\n",
      "phone numbers in the new dataset that had already been updated in the contact list\n"
     ]
    }
   ],
   "source": [
    "print(f\"\"\"\n",
    "There are\n",
    "{(pd.merge(recent_contact_phone, data, on=['npi', 'phone'], how='inner')\n",
    ").shape[0]}\n",
    "phone numbers in the new dataset that had already been updated in the contact list\"\"\"\n",
    "     )\n",
    "     "
   ]
  },
  {
   "cell_type": "markdown",
   "metadata": {},
   "source": [
    "#### (c)\n",
    "How many records in the new data source conflict with a phone number we already had associated with that provider?\n"
   ]
  },
  {
   "cell_type": "code",
   "execution_count": 20,
   "metadata": {},
   "outputs": [],
   "source": [
    "merged_phones = pd.merge(recent_contact_phone, data, on='npi', how='inner')\n"
   ]
  },
  {
   "cell_type": "code",
   "execution_count": 21,
   "metadata": {},
   "outputs": [
    {
     "name": "stdout",
     "output_type": "stream",
     "text": [
      "\n",
      "There are\n",
      "63\n",
      "phone numbers in the new dataset that conflict with the number in the contact list\n"
     ]
    }
   ],
   "source": [
    "print(f\"\"\"\n",
    "There are\n",
    "{merged_phones[merged_phones.phone_x != merged_phones.phone_y].shape[0]}\n",
    "phone numbers in the new dataset that conflict with the number in the contact list\"\"\"\n",
    "     )\n"
   ]
  },
  {
   "cell_type": "markdown",
   "metadata": {},
   "source": [
    "# Scraping"
   ]
  },
  {
   "cell_type": "markdown",
   "metadata": {},
   "source": [
    "### Question 1\n",
    "Using python, scrape the ratings from this site and export them to a CSV for upload to the database. Attach your code for scraping the ratings as well as the data in a CSV sorted by NPI."
   ]
  },
  {
   "cell_type": "code",
   "execution_count": 101,
   "metadata": {},
   "outputs": [],
   "source": [
    "driver = webdriver.Chrome(\"/Users/brentonmallen/chromedriver\")\n",
    "pages = range(1,4)\n",
    "table_xpath = \"/html/body/center[2]/font/table/tbody\"\n"
   ]
  },
  {
   "cell_type": "code",
   "execution_count": 102,
   "metadata": {},
   "outputs": [
    {
     "name": "stderr",
     "output_type": "stream",
     "text": [
      "100%|██████████| 3/3 [00:10<00:00,  3.63s/it]\n"
     ]
    }
   ],
   "source": [
    "scraped_ratings = []\n",
    "for page in tqdm(pages):\n",
    "    url = f\"http://ec2-54-90-234-76.compute-1.amazonaws.com/docstars_pg{page}.html\"\n",
    "    driver.get(url);\n",
    "    rating_table = driver.find_element_by_xpath(table_xpath)\n",
    "    rows = rating_table.find_elements_by_xpath('tr')\n",
    "    for i, r in enumerate(rows):\n",
    "        if i == 0 and page==1:\n",
    "            headers = [h.text.lower() for h in r.find_elements_by_tag_name('th')]\n",
    "            scraped_ratings.append(headers)\n",
    "        else:\n",
    "            row_data = [col.text for col in r.find_elements_by_tag_name('td')]\n",
    "            scraped_ratings.append(row_data)\n",
    "            "
   ]
  },
  {
   "cell_type": "code",
   "execution_count": 104,
   "metadata": {},
   "outputs": [],
   "source": [
    "scraped_data = pd.DataFrame(data=scraped_ratings[1:], columns=scraped_ratings[0])\n",
    "save_results(scraped_data.sort_values(by='npi'), filename='scraped_ratings.csv')\n"
   ]
  },
  {
   "cell_type": "markdown",
   "metadata": {},
   "source": [
    "### Question 2\n",
    "What is the average rating for providers in the plan's network (that is, the providers in the SQL database you looked at above)? What about for the plan's Primary Care providers? (you can do this either in SQL or python, but please include your code along with your answer)"
   ]
  },
  {
   "cell_type": "code",
   "execution_count": 108,
   "metadata": {},
   "outputs": [],
   "source": [
    "network_providers = query('select * from directory.providers', verbose=False)\n"
   ]
  },
  {
   "cell_type": "code",
   "execution_count": 120,
   "metadata": {},
   "outputs": [],
   "source": [
    "ratings_intersection = pd.merge(network_providers, scraped_data, on=['npi'], how='inner')\n",
    "                      \n",
    "provider_avg_rating = (ratings_intersection.\n",
    "                       rating.\n",
    "                       astype(float).\n",
    "                       mean().\n",
    "                       round(3)\n",
    "                      )\n",
    "\n",
    "pcp_avg_rating = (ratings_intersection[ratings_intersection.is_pcp == True].\n",
    "                       rating.\n",
    "                       astype(float).\n",
    "                       mean().\n",
    "                       round(3)\n",
    "                      )\n"
   ]
  },
  {
   "cell_type": "code",
   "execution_count": 118,
   "metadata": {},
   "outputs": [
    {
     "name": "stdout",
     "output_type": "stream",
     "text": [
      "The average DJ's Docstars rating for in network providers is: 3.283\n"
     ]
    }
   ],
   "source": [
    "print(f\"The average DJ's Docstars rating for in network providers is: {provider_avg_rating}\")\n"
   ]
  },
  {
   "cell_type": "code",
   "execution_count": 121,
   "metadata": {},
   "outputs": [
    {
     "name": "stdout",
     "output_type": "stream",
     "text": [
      "The average DJ's Docstars rating for in network PCPs is: 3.506\n"
     ]
    }
   ],
   "source": [
    "print(f\"The average DJ's Docstars rating for in network PCPs is: {pcp_avg_rating}\")\n"
   ]
  },
  {
   "cell_type": "code",
   "execution_count": null,
   "metadata": {},
   "outputs": [],
   "source": []
  }
 ],
 "metadata": {
  "kernelspec": {
   "display_name": "Python 3",
   "language": "python",
   "name": "python3"
  },
  "language_info": {
   "codemirror_mode": {
    "name": "ipython",
    "version": 3
   },
   "file_extension": ".py",
   "mimetype": "text/x-python",
   "name": "python",
   "nbconvert_exporter": "python",
   "pygments_lexer": "ipython3",
   "version": "3.6.7"
  }
 },
 "nbformat": 4,
 "nbformat_minor": 2
}
